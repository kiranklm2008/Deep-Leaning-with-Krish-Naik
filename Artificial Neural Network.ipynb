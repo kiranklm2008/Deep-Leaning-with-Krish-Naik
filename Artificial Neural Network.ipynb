{
 "cells": [
  {
   "cell_type": "markdown",
   "metadata": {},
   "source": [
    "Part 1 Data Preprocessing"
   ]
  },
  {
   "cell_type": "code",
   "execution_count": 5,
   "metadata": {},
   "outputs": [],
   "source": [
    "import numpy as np\n",
    "import pandas as pd \n",
    "import matplotlib.pyplot as plt "
   ]
  },
  {
   "cell_type": "markdown",
   "metadata": {},
   "source": [
    "Importing the data"
   ]
  },
  {
   "cell_type": "code",
   "execution_count": 3,
   "metadata": {},
   "outputs": [],
   "source": [
    "dataset = pd.read_csv('D:/PGP-BABI/Deep Learning with Krish Naik/Churn_Modelling.csv')"
   ]
  },
  {
   "cell_type": "code",
   "execution_count": 4,
   "metadata": {},
   "outputs": [
    {
     "data": {
      "text/html": [
       "<div>\n",
       "<style scoped>\n",
       "    .dataframe tbody tr th:only-of-type {\n",
       "        vertical-align: middle;\n",
       "    }\n",
       "\n",
       "    .dataframe tbody tr th {\n",
       "        vertical-align: top;\n",
       "    }\n",
       "\n",
       "    .dataframe thead th {\n",
       "        text-align: right;\n",
       "    }\n",
       "</style>\n",
       "<table border=\"1\" class=\"dataframe\">\n",
       "  <thead>\n",
       "    <tr style=\"text-align: right;\">\n",
       "      <th></th>\n",
       "      <th>RowNumber</th>\n",
       "      <th>CustomerId</th>\n",
       "      <th>Surname</th>\n",
       "      <th>CreditScore</th>\n",
       "      <th>Geography</th>\n",
       "      <th>Gender</th>\n",
       "      <th>Age</th>\n",
       "      <th>Tenure</th>\n",
       "      <th>Balance</th>\n",
       "      <th>NumOfProducts</th>\n",
       "      <th>HasCrCard</th>\n",
       "      <th>IsActiveMember</th>\n",
       "      <th>EstimatedSalary</th>\n",
       "      <th>Exited</th>\n",
       "    </tr>\n",
       "  </thead>\n",
       "  <tbody>\n",
       "    <tr>\n",
       "      <td>0</td>\n",
       "      <td>1</td>\n",
       "      <td>15634602</td>\n",
       "      <td>Hargrave</td>\n",
       "      <td>619</td>\n",
       "      <td>France</td>\n",
       "      <td>Female</td>\n",
       "      <td>42</td>\n",
       "      <td>2</td>\n",
       "      <td>0.00</td>\n",
       "      <td>1</td>\n",
       "      <td>1</td>\n",
       "      <td>1</td>\n",
       "      <td>101348.88</td>\n",
       "      <td>1</td>\n",
       "    </tr>\n",
       "    <tr>\n",
       "      <td>1</td>\n",
       "      <td>2</td>\n",
       "      <td>15647311</td>\n",
       "      <td>Hill</td>\n",
       "      <td>608</td>\n",
       "      <td>Spain</td>\n",
       "      <td>Female</td>\n",
       "      <td>41</td>\n",
       "      <td>1</td>\n",
       "      <td>83807.86</td>\n",
       "      <td>1</td>\n",
       "      <td>0</td>\n",
       "      <td>1</td>\n",
       "      <td>112542.58</td>\n",
       "      <td>0</td>\n",
       "    </tr>\n",
       "    <tr>\n",
       "      <td>2</td>\n",
       "      <td>3</td>\n",
       "      <td>15619304</td>\n",
       "      <td>Onio</td>\n",
       "      <td>502</td>\n",
       "      <td>France</td>\n",
       "      <td>Female</td>\n",
       "      <td>42</td>\n",
       "      <td>8</td>\n",
       "      <td>159660.80</td>\n",
       "      <td>3</td>\n",
       "      <td>1</td>\n",
       "      <td>0</td>\n",
       "      <td>113931.57</td>\n",
       "      <td>1</td>\n",
       "    </tr>\n",
       "    <tr>\n",
       "      <td>3</td>\n",
       "      <td>4</td>\n",
       "      <td>15701354</td>\n",
       "      <td>Boni</td>\n",
       "      <td>699</td>\n",
       "      <td>France</td>\n",
       "      <td>Female</td>\n",
       "      <td>39</td>\n",
       "      <td>1</td>\n",
       "      <td>0.00</td>\n",
       "      <td>2</td>\n",
       "      <td>0</td>\n",
       "      <td>0</td>\n",
       "      <td>93826.63</td>\n",
       "      <td>0</td>\n",
       "    </tr>\n",
       "    <tr>\n",
       "      <td>4</td>\n",
       "      <td>5</td>\n",
       "      <td>15737888</td>\n",
       "      <td>Mitchell</td>\n",
       "      <td>850</td>\n",
       "      <td>Spain</td>\n",
       "      <td>Female</td>\n",
       "      <td>43</td>\n",
       "      <td>2</td>\n",
       "      <td>125510.82</td>\n",
       "      <td>1</td>\n",
       "      <td>1</td>\n",
       "      <td>1</td>\n",
       "      <td>79084.10</td>\n",
       "      <td>0</td>\n",
       "    </tr>\n",
       "  </tbody>\n",
       "</table>\n",
       "</div>"
      ],
      "text/plain": [
       "   RowNumber  CustomerId   Surname  CreditScore Geography  Gender  Age  \\\n",
       "0          1    15634602  Hargrave          619    France  Female   42   \n",
       "1          2    15647311      Hill          608     Spain  Female   41   \n",
       "2          3    15619304      Onio          502    France  Female   42   \n",
       "3          4    15701354      Boni          699    France  Female   39   \n",
       "4          5    15737888  Mitchell          850     Spain  Female   43   \n",
       "\n",
       "   Tenure    Balance  NumOfProducts  HasCrCard  IsActiveMember  \\\n",
       "0       2       0.00              1          1               1   \n",
       "1       1   83807.86              1          0               1   \n",
       "2       8  159660.80              3          1               0   \n",
       "3       1       0.00              2          0               0   \n",
       "4       2  125510.82              1          1               1   \n",
       "\n",
       "   EstimatedSalary  Exited  \n",
       "0        101348.88       1  \n",
       "1        112542.58       0  \n",
       "2        113931.57       1  \n",
       "3         93826.63       0  \n",
       "4         79084.10       0  "
      ]
     },
     "execution_count": 4,
     "metadata": {},
     "output_type": "execute_result"
    }
   ],
   "source": [
    "dataset.head()"
   ]
  },
  {
   "cell_type": "markdown",
   "metadata": {},
   "source": [
    "Assigning Dependent and Independent Variables"
   ]
  },
  {
   "cell_type": "code",
   "execution_count": 15,
   "metadata": {},
   "outputs": [],
   "source": [
    "x= dataset.iloc[:, 3:13]\n",
    "y= dataset.iloc[: ,13]"
   ]
  },
  {
   "cell_type": "markdown",
   "metadata": {},
   "source": [
    "Creating Dummy Variables for "
   ]
  },
  {
   "cell_type": "code",
   "execution_count": 17,
   "metadata": {},
   "outputs": [],
   "source": [
    "geography = pd.get_dummies(x[\"Geography\"], drop_first= True)\n",
    "gender = pd.get_dummies(x[\"Gender\"], drop_first=True)"
   ]
  },
  {
   "cell_type": "markdown",
   "metadata": {},
   "source": [
    "COoncatinating DUmmy Variables"
   ]
  },
  {
   "cell_type": "code",
   "execution_count": 18,
   "metadata": {},
   "outputs": [],
   "source": [
    "x=pd.concat([x,geography,gender], axis=1)"
   ]
  },
  {
   "cell_type": "code",
   "execution_count": 19,
   "metadata": {},
   "outputs": [
    {
     "data": {
      "text/html": [
       "<div>\n",
       "<style scoped>\n",
       "    .dataframe tbody tr th:only-of-type {\n",
       "        vertical-align: middle;\n",
       "    }\n",
       "\n",
       "    .dataframe tbody tr th {\n",
       "        vertical-align: top;\n",
       "    }\n",
       "\n",
       "    .dataframe thead th {\n",
       "        text-align: right;\n",
       "    }\n",
       "</style>\n",
       "<table border=\"1\" class=\"dataframe\">\n",
       "  <thead>\n",
       "    <tr style=\"text-align: right;\">\n",
       "      <th></th>\n",
       "      <th>CreditScore</th>\n",
       "      <th>Geography</th>\n",
       "      <th>Gender</th>\n",
       "      <th>Age</th>\n",
       "      <th>Tenure</th>\n",
       "      <th>Balance</th>\n",
       "      <th>NumOfProducts</th>\n",
       "      <th>HasCrCard</th>\n",
       "      <th>IsActiveMember</th>\n",
       "      <th>EstimatedSalary</th>\n",
       "      <th>Germany</th>\n",
       "      <th>Spain</th>\n",
       "      <th>Male</th>\n",
       "    </tr>\n",
       "  </thead>\n",
       "  <tbody>\n",
       "    <tr>\n",
       "      <td>0</td>\n",
       "      <td>619</td>\n",
       "      <td>France</td>\n",
       "      <td>Female</td>\n",
       "      <td>42</td>\n",
       "      <td>2</td>\n",
       "      <td>0.00</td>\n",
       "      <td>1</td>\n",
       "      <td>1</td>\n",
       "      <td>1</td>\n",
       "      <td>101348.88</td>\n",
       "      <td>0</td>\n",
       "      <td>0</td>\n",
       "      <td>0</td>\n",
       "    </tr>\n",
       "    <tr>\n",
       "      <td>1</td>\n",
       "      <td>608</td>\n",
       "      <td>Spain</td>\n",
       "      <td>Female</td>\n",
       "      <td>41</td>\n",
       "      <td>1</td>\n",
       "      <td>83807.86</td>\n",
       "      <td>1</td>\n",
       "      <td>0</td>\n",
       "      <td>1</td>\n",
       "      <td>112542.58</td>\n",
       "      <td>0</td>\n",
       "      <td>1</td>\n",
       "      <td>0</td>\n",
       "    </tr>\n",
       "    <tr>\n",
       "      <td>2</td>\n",
       "      <td>502</td>\n",
       "      <td>France</td>\n",
       "      <td>Female</td>\n",
       "      <td>42</td>\n",
       "      <td>8</td>\n",
       "      <td>159660.80</td>\n",
       "      <td>3</td>\n",
       "      <td>1</td>\n",
       "      <td>0</td>\n",
       "      <td>113931.57</td>\n",
       "      <td>0</td>\n",
       "      <td>0</td>\n",
       "      <td>0</td>\n",
       "    </tr>\n",
       "    <tr>\n",
       "      <td>3</td>\n",
       "      <td>699</td>\n",
       "      <td>France</td>\n",
       "      <td>Female</td>\n",
       "      <td>39</td>\n",
       "      <td>1</td>\n",
       "      <td>0.00</td>\n",
       "      <td>2</td>\n",
       "      <td>0</td>\n",
       "      <td>0</td>\n",
       "      <td>93826.63</td>\n",
       "      <td>0</td>\n",
       "      <td>0</td>\n",
       "      <td>0</td>\n",
       "    </tr>\n",
       "    <tr>\n",
       "      <td>4</td>\n",
       "      <td>850</td>\n",
       "      <td>Spain</td>\n",
       "      <td>Female</td>\n",
       "      <td>43</td>\n",
       "      <td>2</td>\n",
       "      <td>125510.82</td>\n",
       "      <td>1</td>\n",
       "      <td>1</td>\n",
       "      <td>1</td>\n",
       "      <td>79084.10</td>\n",
       "      <td>0</td>\n",
       "      <td>1</td>\n",
       "      <td>0</td>\n",
       "    </tr>\n",
       "  </tbody>\n",
       "</table>\n",
       "</div>"
      ],
      "text/plain": [
       "   CreditScore Geography  Gender  Age  Tenure    Balance  NumOfProducts  \\\n",
       "0          619    France  Female   42       2       0.00              1   \n",
       "1          608     Spain  Female   41       1   83807.86              1   \n",
       "2          502    France  Female   42       8  159660.80              3   \n",
       "3          699    France  Female   39       1       0.00              2   \n",
       "4          850     Spain  Female   43       2  125510.82              1   \n",
       "\n",
       "   HasCrCard  IsActiveMember  EstimatedSalary  Germany  Spain  Male  \n",
       "0          1               1        101348.88        0      0     0  \n",
       "1          0               1        112542.58        0      1     0  \n",
       "2          1               0        113931.57        0      0     0  \n",
       "3          0               0         93826.63        0      0     0  \n",
       "4          1               1         79084.10        0      1     0  "
      ]
     },
     "execution_count": 19,
     "metadata": {},
     "output_type": "execute_result"
    }
   ],
   "source": [
    "x.head()"
   ]
  },
  {
   "cell_type": "markdown",
   "metadata": {},
   "source": [
    "Deleting the orginal geography and gender column"
   ]
  },
  {
   "cell_type": "code",
   "execution_count": 23,
   "metadata": {},
   "outputs": [],
   "source": [
    "x=x.drop(['Geography','Gender'],axis=1)"
   ]
  },
  {
   "cell_type": "code",
   "execution_count": 24,
   "metadata": {},
   "outputs": [
    {
     "data": {
      "text/html": [
       "<div>\n",
       "<style scoped>\n",
       "    .dataframe tbody tr th:only-of-type {\n",
       "        vertical-align: middle;\n",
       "    }\n",
       "\n",
       "    .dataframe tbody tr th {\n",
       "        vertical-align: top;\n",
       "    }\n",
       "\n",
       "    .dataframe thead th {\n",
       "        text-align: right;\n",
       "    }\n",
       "</style>\n",
       "<table border=\"1\" class=\"dataframe\">\n",
       "  <thead>\n",
       "    <tr style=\"text-align: right;\">\n",
       "      <th></th>\n",
       "      <th>CreditScore</th>\n",
       "      <th>Age</th>\n",
       "      <th>Tenure</th>\n",
       "      <th>Balance</th>\n",
       "      <th>NumOfProducts</th>\n",
       "      <th>HasCrCard</th>\n",
       "      <th>IsActiveMember</th>\n",
       "      <th>EstimatedSalary</th>\n",
       "      <th>Germany</th>\n",
       "      <th>Spain</th>\n",
       "      <th>Male</th>\n",
       "    </tr>\n",
       "  </thead>\n",
       "  <tbody>\n",
       "    <tr>\n",
       "      <td>0</td>\n",
       "      <td>619</td>\n",
       "      <td>42</td>\n",
       "      <td>2</td>\n",
       "      <td>0.00</td>\n",
       "      <td>1</td>\n",
       "      <td>1</td>\n",
       "      <td>1</td>\n",
       "      <td>101348.88</td>\n",
       "      <td>0</td>\n",
       "      <td>0</td>\n",
       "      <td>0</td>\n",
       "    </tr>\n",
       "    <tr>\n",
       "      <td>1</td>\n",
       "      <td>608</td>\n",
       "      <td>41</td>\n",
       "      <td>1</td>\n",
       "      <td>83807.86</td>\n",
       "      <td>1</td>\n",
       "      <td>0</td>\n",
       "      <td>1</td>\n",
       "      <td>112542.58</td>\n",
       "      <td>0</td>\n",
       "      <td>1</td>\n",
       "      <td>0</td>\n",
       "    </tr>\n",
       "    <tr>\n",
       "      <td>2</td>\n",
       "      <td>502</td>\n",
       "      <td>42</td>\n",
       "      <td>8</td>\n",
       "      <td>159660.80</td>\n",
       "      <td>3</td>\n",
       "      <td>1</td>\n",
       "      <td>0</td>\n",
       "      <td>113931.57</td>\n",
       "      <td>0</td>\n",
       "      <td>0</td>\n",
       "      <td>0</td>\n",
       "    </tr>\n",
       "    <tr>\n",
       "      <td>3</td>\n",
       "      <td>699</td>\n",
       "      <td>39</td>\n",
       "      <td>1</td>\n",
       "      <td>0.00</td>\n",
       "      <td>2</td>\n",
       "      <td>0</td>\n",
       "      <td>0</td>\n",
       "      <td>93826.63</td>\n",
       "      <td>0</td>\n",
       "      <td>0</td>\n",
       "      <td>0</td>\n",
       "    </tr>\n",
       "    <tr>\n",
       "      <td>4</td>\n",
       "      <td>850</td>\n",
       "      <td>43</td>\n",
       "      <td>2</td>\n",
       "      <td>125510.82</td>\n",
       "      <td>1</td>\n",
       "      <td>1</td>\n",
       "      <td>1</td>\n",
       "      <td>79084.10</td>\n",
       "      <td>0</td>\n",
       "      <td>1</td>\n",
       "      <td>0</td>\n",
       "    </tr>\n",
       "  </tbody>\n",
       "</table>\n",
       "</div>"
      ],
      "text/plain": [
       "   CreditScore  Age  Tenure    Balance  NumOfProducts  HasCrCard  \\\n",
       "0          619   42       2       0.00              1          1   \n",
       "1          608   41       1   83807.86              1          0   \n",
       "2          502   42       8  159660.80              3          1   \n",
       "3          699   39       1       0.00              2          0   \n",
       "4          850   43       2  125510.82              1          1   \n",
       "\n",
       "   IsActiveMember  EstimatedSalary  Germany  Spain  Male  \n",
       "0               1        101348.88        0      0     0  \n",
       "1               1        112542.58        0      1     0  \n",
       "2               0        113931.57        0      0     0  \n",
       "3               0         93826.63        0      0     0  \n",
       "4               1         79084.10        0      1     0  "
      ]
     },
     "execution_count": 24,
     "metadata": {},
     "output_type": "execute_result"
    }
   ],
   "source": [
    "x.head()"
   ]
  },
  {
   "cell_type": "markdown",
   "metadata": {},
   "source": [
    "Splitting the training and testing data"
   ]
  },
  {
   "cell_type": "code",
   "execution_count": 25,
   "metadata": {},
   "outputs": [
    {
     "name": "stderr",
     "output_type": "stream",
     "text": [
      "C:\\Users\\Kiran Kumar\\Anaconda3\\lib\\importlib\\_bootstrap.py:219: RuntimeWarning: numpy.ufunc size changed, may indicate binary incompatibility. Expected 192 from C header, got 216 from PyObject\n",
      "  return f(*args, **kwds)\n"
     ]
    }
   ],
   "source": [
    "from sklearn.model_selection import train_test_split\n",
    "x_train,x_test,y_train,y_test = train_test_split(x,y,test_size=0.2 , random_state =0)"
   ]
  },
  {
   "cell_type": "markdown",
   "metadata": {},
   "source": [
    "Feature Scaling "
   ]
  },
  {
   "cell_type": "code",
   "execution_count": 26,
   "metadata": {},
   "outputs": [],
   "source": [
    "from sklearn.preprocessing import StandardScaler\n",
    "sc= StandardScaler()\n",
    "x_train = sc.fit_transform(x_train)\n",
    "x_test = sc.fit_transform(x_test)"
   ]
  },
  {
   "cell_type": "markdown",
   "metadata": {},
   "source": [
    "Building the Artificial Neural Network"
   ]
  },
  {
   "cell_type": "markdown",
   "metadata": {},
   "source": [
    "Importing Keras and other relevant libraries"
   ]
  },
  {
   "cell_type": "code",
   "execution_count": 28,
   "metadata": {},
   "outputs": [],
   "source": [
    "import keras\n",
    "from keras.models import Sequential\n",
    "from keras.layers import Dense\n",
    "from keras.layers import LeakyReLU,PReLU,ELU\n",
    "from keras.layers import Dropout"
   ]
  },
  {
   "cell_type": "markdown",
   "metadata": {},
   "source": [
    "Initializing the ANN"
   ]
  },
  {
   "cell_type": "code",
   "execution_count": 29,
   "metadata": {},
   "outputs": [],
   "source": [
    "classifier = Sequential()"
   ]
  },
  {
   "cell_type": "markdown",
   "metadata": {},
   "source": [
    "Adding the input layer and the first hidden layer\n"
   ]
  },
  {
   "cell_type": "code",
   "execution_count": 30,
   "metadata": {},
   "outputs": [
    {
     "name": "stdout",
     "output_type": "stream",
     "text": [
      "WARNING:tensorflow:From C:\\Users\\Kiran Kumar\\Anaconda3\\lib\\site-packages\\tensorflow\\python\\ops\\resource_variable_ops.py:435: colocate_with (from tensorflow.python.framework.ops) is deprecated and will be removed in a future version.\n",
      "Instructions for updating:\n",
      "Colocations handled automatically by placer.\n"
     ]
    }
   ],
   "source": [
    "classifier.add(Dense(units = 6, kernel_initializer= 'he_uniform', activation ='relu', input_dim = 11))"
   ]
  },
  {
   "cell_type": "markdown",
   "metadata": {},
   "source": [
    "Adding the second hidden layer"
   ]
  },
  {
   "cell_type": "code",
   "execution_count": 31,
   "metadata": {},
   "outputs": [],
   "source": [
    "classifier.add(Dense(units=6, kernel_initializer= 'he_uniform', activation='relu'))"
   ]
  },
  {
   "cell_type": "markdown",
   "metadata": {},
   "source": [
    "Adding the output layer"
   ]
  },
  {
   "cell_type": "code",
   "execution_count": 32,
   "metadata": {},
   "outputs": [
    {
     "name": "stderr",
     "output_type": "stream",
     "text": [
      "C:\\Users\\Kiran Kumar\\Anaconda3\\lib\\site-packages\\ipykernel_launcher.py:1: UserWarning: Update your `Dense` call to the Keras 2 API: `Dense(kernel_initializer=\"glorot_uniform\", activation=\"sigmoid\", units=1)`\n",
      "  \"\"\"Entry point for launching an IPython kernel.\n"
     ]
    }
   ],
   "source": [
    "classifier.add(Dense(output_dim = 1, kernel_initializer='glorot_uniform', activation = 'sigmoid'))"
   ]
  },
  {
   "cell_type": "code",
   "execution_count": 33,
   "metadata": {},
   "outputs": [
    {
     "name": "stdout",
     "output_type": "stream",
     "text": [
      "Model: \"sequential_1\"\n",
      "_________________________________________________________________\n",
      "Layer (type)                 Output Shape              Param #   \n",
      "=================================================================\n",
      "dense_1 (Dense)              (None, 6)                 72        \n",
      "_________________________________________________________________\n",
      "dense_2 (Dense)              (None, 6)                 42        \n",
      "_________________________________________________________________\n",
      "dense_3 (Dense)              (None, 1)                 7         \n",
      "=================================================================\n",
      "Total params: 121\n",
      "Trainable params: 121\n",
      "Non-trainable params: 0\n",
      "_________________________________________________________________\n"
     ]
    }
   ],
   "source": [
    "classifier.summary()"
   ]
  },
  {
   "cell_type": "markdown",
   "metadata": {},
   "source": [
    "Compiling the ANN"
   ]
  },
  {
   "cell_type": "code",
   "execution_count": 38,
   "metadata": {},
   "outputs": [],
   "source": [
    "classifier.compile(optimizer='Adamax', loss= 'binary_crossentropy', metrics= ['accuracy'])"
   ]
  },
  {
   "cell_type": "markdown",
   "metadata": {},
   "source": [
    "Fitting the ANN to the training set"
   ]
  },
  {
   "cell_type": "code",
   "execution_count": 40,
   "metadata": {},
   "outputs": [
    {
     "name": "stderr",
     "output_type": "stream",
     "text": [
      "C:\\Users\\Kiran Kumar\\Anaconda3\\lib\\site-packages\\ipykernel_launcher.py:1: UserWarning: The `nb_epoch` argument in `fit` has been renamed `epochs`.\n",
      "  \"\"\"Entry point for launching an IPython kernel.\n"
     ]
    },
    {
     "name": "stdout",
     "output_type": "stream",
     "text": [
      "WARNING:tensorflow:From C:\\Users\\Kiran Kumar\\Anaconda3\\lib\\site-packages\\tensorflow\\python\\ops\\math_ops.py:3066: to_int32 (from tensorflow.python.ops.math_ops) is deprecated and will be removed in a future version.\n",
      "Instructions for updating:\n",
      "Use tf.cast instead.\n",
      "Train on 5359 samples, validate on 2641 samples\n",
      "Epoch 1/100\n",
      "5359/5359 [==============================] - 2s 289us/step - loss: 0.5151 - accuracy: 0.7962 - val_loss: 0.4933 - val_accuracy: 0.7955\n",
      "Epoch 2/100\n",
      "5359/5359 [==============================] - 1s 172us/step - loss: 0.4837 - accuracy: 0.7962 - val_loss: 0.4792 - val_accuracy: 0.7955\n",
      "Epoch 3/100\n",
      "5359/5359 [==============================] - 1s 161us/step - loss: 0.4695 - accuracy: 0.7962 - val_loss: 0.4669 - val_accuracy: 0.7955\n",
      "Epoch 4/100\n",
      "5359/5359 [==============================] - 1s 161us/step - loss: 0.4584 - accuracy: 0.7962 - val_loss: 0.4578 - val_accuracy: 0.7955\n",
      "Epoch 5/100\n",
      "5359/5359 [==============================] - 1s 158us/step - loss: 0.4497 - accuracy: 0.7962 - val_loss: 0.4503 - val_accuracy: 0.7955\n",
      "Epoch 6/100\n",
      "5359/5359 [==============================] - 1s 162us/step - loss: 0.4434 - accuracy: 0.7962 - val_loss: 0.4450 - val_accuracy: 0.7955\n",
      "Epoch 7/100\n",
      "5359/5359 [==============================] - 1s 172us/step - loss: 0.4387 - accuracy: 0.7962 - val_loss: 0.4409 - val_accuracy: 0.7955\n",
      "Epoch 8/100\n",
      "5359/5359 [==============================] - 1s 171us/step - loss: 0.4352 - accuracy: 0.7962 - val_loss: 0.4373 - val_accuracy: 0.7955\n",
      "Epoch 9/100\n",
      "5359/5359 [==============================] - 1s 169us/step - loss: 0.4317 - accuracy: 0.7962 - val_loss: 0.4344 - val_accuracy: 0.7955\n",
      "Epoch 10/100\n",
      "5359/5359 [==============================] - 1s 167us/step - loss: 0.4287 - accuracy: 0.7962 - val_loss: 0.4317 - val_accuracy: 0.7955\n",
      "Epoch 11/100\n",
      "5359/5359 [==============================] - 1s 168us/step - loss: 0.4263 - accuracy: 0.7962 - val_loss: 0.4295 - val_accuracy: 0.7955\n",
      "Epoch 12/100\n",
      "5359/5359 [==============================] - 1s 170us/step - loss: 0.4233 - accuracy: 0.7962 - val_loss: 0.4273 - val_accuracy: 0.7955\n",
      "Epoch 13/100\n",
      "5359/5359 [==============================] - 1s 167us/step - loss: 0.4208 - accuracy: 0.7974 - val_loss: 0.4250 - val_accuracy: 0.8035\n",
      "Epoch 14/100\n",
      "5359/5359 [==============================] - 1s 164us/step - loss: 0.4180 - accuracy: 0.8104 - val_loss: 0.4228 - val_accuracy: 0.8065\n",
      "Epoch 15/100\n",
      "5359/5359 [==============================] - 1s 163us/step - loss: 0.4153 - accuracy: 0.8136 - val_loss: 0.4207 - val_accuracy: 0.8084\n",
      "Epoch 16/100\n",
      "5359/5359 [==============================] - 1s 171us/step - loss: 0.4128 - accuracy: 0.8175 - val_loss: 0.4184 - val_accuracy: 0.8114\n",
      "Epoch 17/100\n",
      "5359/5359 [==============================] - 1s 176us/step - loss: 0.4100 - accuracy: 0.8199 - val_loss: 0.4159 - val_accuracy: 0.8126\n",
      "Epoch 18/100\n",
      "5359/5359 [==============================] - 1s 167us/step - loss: 0.4070 - accuracy: 0.8255 - val_loss: 0.4137 - val_accuracy: 0.8156\n",
      "Epoch 19/100\n",
      "5359/5359 [==============================] - 1s 167us/step - loss: 0.4042 - accuracy: 0.8280 - val_loss: 0.4111 - val_accuracy: 0.8179\n",
      "Epoch 20/100\n",
      "5359/5359 [==============================] - 1s 162us/step - loss: 0.4012 - accuracy: 0.8304 - val_loss: 0.4084 - val_accuracy: 0.8209\n",
      "Epoch 21/100\n",
      "5359/5359 [==============================] - 1s 167us/step - loss: 0.3985 - accuracy: 0.8332 - val_loss: 0.4061 - val_accuracy: 0.8198\n",
      "Epoch 22/100\n",
      "5359/5359 [==============================] - 1s 170us/step - loss: 0.3956 - accuracy: 0.8336 - val_loss: 0.4040 - val_accuracy: 0.8186\n",
      "Epoch 23/100\n",
      "5359/5359 [==============================] - 1s 175us/step - loss: 0.3932 - accuracy: 0.8337 - val_loss: 0.4020 - val_accuracy: 0.8247\n",
      "Epoch 24/100\n",
      "5359/5359 [==============================] - 1s 175us/step - loss: 0.3908 - accuracy: 0.8349 - val_loss: 0.3994 - val_accuracy: 0.8289\n",
      "Epoch 25/100\n",
      "5359/5359 [==============================] - 1s 177us/step - loss: 0.3886 - accuracy: 0.8384 - val_loss: 0.3975 - val_accuracy: 0.8300\n",
      "Epoch 26/100\n",
      "5359/5359 [==============================] - 1s 175us/step - loss: 0.3863 - accuracy: 0.8399 - val_loss: 0.3952 - val_accuracy: 0.8360\n",
      "Epoch 27/100\n",
      "5359/5359 [==============================] - 1s 194us/step - loss: 0.3841 - accuracy: 0.8414 - val_loss: 0.3935 - val_accuracy: 0.8360\n",
      "Epoch 28/100\n",
      "5359/5359 [==============================] - 1s 179us/step - loss: 0.3820 - accuracy: 0.8406 - val_loss: 0.3917 - val_accuracy: 0.8368\n",
      "Epoch 29/100\n",
      "5359/5359 [==============================] - 1s 184us/step - loss: 0.3801 - accuracy: 0.8446 - val_loss: 0.3897 - val_accuracy: 0.8357\n",
      "Epoch 30/100\n",
      "5359/5359 [==============================] - 1s 187us/step - loss: 0.3779 - accuracy: 0.8423 - val_loss: 0.3881 - val_accuracy: 0.8387\n",
      "Epoch 31/100\n",
      "5359/5359 [==============================] - 1s 196us/step - loss: 0.3760 - accuracy: 0.8429 - val_loss: 0.3869 - val_accuracy: 0.8379\n",
      "Epoch 32/100\n",
      "5359/5359 [==============================] - 1s 188us/step - loss: 0.3741 - accuracy: 0.8447 - val_loss: 0.3855 - val_accuracy: 0.8387\n",
      "Epoch 33/100\n",
      "5359/5359 [==============================] - 1s 180us/step - loss: 0.3724 - accuracy: 0.8459 - val_loss: 0.3841 - val_accuracy: 0.8410\n",
      "Epoch 34/100\n",
      "5359/5359 [==============================] - 1s 199us/step - loss: 0.3706 - accuracy: 0.8446 - val_loss: 0.3830 - val_accuracy: 0.8398\n",
      "Epoch 35/100\n",
      "5359/5359 [==============================] - 1s 192us/step - loss: 0.3687 - accuracy: 0.8477 - val_loss: 0.3813 - val_accuracy: 0.8387\n",
      "Epoch 36/100\n",
      "5359/5359 [==============================] - 1s 213us/step - loss: 0.3669 - accuracy: 0.8477 - val_loss: 0.3801 - val_accuracy: 0.8444\n",
      "Epoch 37/100\n",
      "5359/5359 [==============================] - 1s 214us/step - loss: 0.3654 - accuracy: 0.8490 - val_loss: 0.3787 - val_accuracy: 0.8440\n",
      "Epoch 38/100\n",
      "5359/5359 [==============================] - 1s 205us/step - loss: 0.3637 - accuracy: 0.8492 - val_loss: 0.3776 - val_accuracy: 0.8413\n",
      "Epoch 39/100\n",
      "5359/5359 [==============================] - 1s 191us/step - loss: 0.3621 - accuracy: 0.8520 - val_loss: 0.3770 - val_accuracy: 0.8425\n",
      "Epoch 40/100\n",
      "5359/5359 [==============================] - 1s 192us/step - loss: 0.3604 - accuracy: 0.8503 - val_loss: 0.3760 - val_accuracy: 0.8482\n",
      "Epoch 41/100\n",
      "5359/5359 [==============================] - 1s 188us/step - loss: 0.3594 - accuracy: 0.8517 - val_loss: 0.3752 - val_accuracy: 0.8429\n",
      "Epoch 42/100\n",
      "5359/5359 [==============================] - 1s 184us/step - loss: 0.3579 - accuracy: 0.8524 - val_loss: 0.3748 - val_accuracy: 0.8425\n",
      "Epoch 43/100\n",
      "5359/5359 [==============================] - 1s 182us/step - loss: 0.3570 - accuracy: 0.8541 - val_loss: 0.3741 - val_accuracy: 0.8421\n",
      "Epoch 44/100\n",
      "5359/5359 [==============================] - 1s 180us/step - loss: 0.3557 - accuracy: 0.8531 - val_loss: 0.3729 - val_accuracy: 0.8470\n",
      "Epoch 45/100\n",
      "5359/5359 [==============================] - 1s 174us/step - loss: 0.3546 - accuracy: 0.8543 - val_loss: 0.3723 - val_accuracy: 0.8448\n",
      "Epoch 46/100\n",
      "5359/5359 [==============================] - 1s 173us/step - loss: 0.3536 - accuracy: 0.8545 - val_loss: 0.3717 - val_accuracy: 0.8444\n",
      "Epoch 47/100\n",
      "5359/5359 [==============================] - 1s 191us/step - loss: 0.3528 - accuracy: 0.8556 - val_loss: 0.3710 - val_accuracy: 0.8440\n",
      "Epoch 48/100\n",
      "5359/5359 [==============================] - 1s 173us/step - loss: 0.3518 - accuracy: 0.8558 - val_loss: 0.3708 - val_accuracy: 0.8482\n",
      "Epoch 49/100\n",
      "5359/5359 [==============================] - 1s 178us/step - loss: 0.3510 - accuracy: 0.8543 - val_loss: 0.3702 - val_accuracy: 0.8470\n",
      "Epoch 50/100\n",
      "5359/5359 [==============================] - 1s 189us/step - loss: 0.3501 - accuracy: 0.8561 - val_loss: 0.3695 - val_accuracy: 0.8466\n",
      "Epoch 51/100\n",
      "5359/5359 [==============================] - 1s 178us/step - loss: 0.3490 - accuracy: 0.8563 - val_loss: 0.3688 - val_accuracy: 0.8459\n",
      "Epoch 52/100\n",
      "5359/5359 [==============================] - 1s 186us/step - loss: 0.3480 - accuracy: 0.8584 - val_loss: 0.3681 - val_accuracy: 0.8474\n",
      "Epoch 53/100\n",
      "5359/5359 [==============================] - 1s 203us/step - loss: 0.3472 - accuracy: 0.8571 - val_loss: 0.3674 - val_accuracy: 0.8531\n",
      "Epoch 54/100\n"
     ]
    },
    {
     "name": "stdout",
     "output_type": "stream",
     "text": [
      "5359/5359 [==============================] - 1s 230us/step - loss: 0.3464 - accuracy: 0.8589 - val_loss: 0.3686 - val_accuracy: 0.8512\n",
      "Epoch 55/100\n",
      "5359/5359 [==============================] - 1s 174us/step - loss: 0.3460 - accuracy: 0.8584 - val_loss: 0.3668 - val_accuracy: 0.8482\n",
      "Epoch 56/100\n",
      "5359/5359 [==============================] - 1s 172us/step - loss: 0.3454 - accuracy: 0.8602 - val_loss: 0.3659 - val_accuracy: 0.8497\n",
      "Epoch 57/100\n",
      "5359/5359 [==============================] - 1s 170us/step - loss: 0.3446 - accuracy: 0.8597 - val_loss: 0.3663 - val_accuracy: 0.8497\n",
      "Epoch 58/100\n",
      "5359/5359 [==============================] - 1s 176us/step - loss: 0.3441 - accuracy: 0.8582 - val_loss: 0.3664 - val_accuracy: 0.8504\n",
      "Epoch 59/100\n",
      "5359/5359 [==============================] - 1s 169us/step - loss: 0.3437 - accuracy: 0.8593 - val_loss: 0.3654 - val_accuracy: 0.8508\n",
      "Epoch 60/100\n",
      "5359/5359 [==============================] - 1s 171us/step - loss: 0.3429 - accuracy: 0.8589 - val_loss: 0.3649 - val_accuracy: 0.8542\n",
      "Epoch 61/100\n",
      "5359/5359 [==============================] - 1s 182us/step - loss: 0.3424 - accuracy: 0.8587 - val_loss: 0.3638 - val_accuracy: 0.8531\n",
      "Epoch 62/100\n",
      "5359/5359 [==============================] - 1s 192us/step - loss: 0.3422 - accuracy: 0.8587 - val_loss: 0.3642 - val_accuracy: 0.8512\n",
      "Epoch 63/100\n",
      "5359/5359 [==============================] - 1s 182us/step - loss: 0.3415 - accuracy: 0.8606 - val_loss: 0.3640 - val_accuracy: 0.8512\n",
      "Epoch 64/100\n",
      "5359/5359 [==============================] - 1s 179us/step - loss: 0.3413 - accuracy: 0.8610 - val_loss: 0.3649 - val_accuracy: 0.8519\n",
      "Epoch 65/100\n",
      "5359/5359 [==============================] - 1s 187us/step - loss: 0.3408 - accuracy: 0.8582 - val_loss: 0.3639 - val_accuracy: 0.8519\n",
      "Epoch 66/100\n",
      "5359/5359 [==============================] - 1s 188us/step - loss: 0.3403 - accuracy: 0.8576 - val_loss: 0.3639 - val_accuracy: 0.8550\n",
      "Epoch 67/100\n",
      "5359/5359 [==============================] - 1s 176us/step - loss: 0.3398 - accuracy: 0.8602 - val_loss: 0.3635 - val_accuracy: 0.8542\n",
      "Epoch 68/100\n",
      "5359/5359 [==============================] - 1s 184us/step - loss: 0.3395 - accuracy: 0.8615 - val_loss: 0.3629 - val_accuracy: 0.8550\n",
      "Epoch 69/100\n",
      "5359/5359 [==============================] - 1s 184us/step - loss: 0.3393 - accuracy: 0.8599 - val_loss: 0.3631 - val_accuracy: 0.8542\n",
      "Epoch 70/100\n",
      "5359/5359 [==============================] - 1s 186us/step - loss: 0.3395 - accuracy: 0.8597 - val_loss: 0.3632 - val_accuracy: 0.8527\n",
      "Epoch 71/100\n",
      "5359/5359 [==============================] - 1s 178us/step - loss: 0.3391 - accuracy: 0.8606 - val_loss: 0.3631 - val_accuracy: 0.8531\n",
      "Epoch 72/100\n",
      "5359/5359 [==============================] - 1s 179us/step - loss: 0.3386 - accuracy: 0.8619 - val_loss: 0.3633 - val_accuracy: 0.8573\n",
      "Epoch 73/100\n",
      "5359/5359 [==============================] - 1s 179us/step - loss: 0.3382 - accuracy: 0.8606 - val_loss: 0.3623 - val_accuracy: 0.8557\n",
      "Epoch 74/100\n",
      "5359/5359 [==============================] - 1s 181us/step - loss: 0.3383 - accuracy: 0.8606 - val_loss: 0.3621 - val_accuracy: 0.8561\n",
      "Epoch 75/100\n",
      "5359/5359 [==============================] - 1s 206us/step - loss: 0.3380 - accuracy: 0.8621 - val_loss: 0.3620 - val_accuracy: 0.8565\n",
      "Epoch 76/100\n",
      "5359/5359 [==============================] - 1s 191us/step - loss: 0.3379 - accuracy: 0.8621 - val_loss: 0.3631 - val_accuracy: 0.8542\n",
      "Epoch 77/100\n",
      "5359/5359 [==============================] - 1s 181us/step - loss: 0.3375 - accuracy: 0.8614 - val_loss: 0.3624 - val_accuracy: 0.8557\n",
      "Epoch 78/100\n",
      "5359/5359 [==============================] - 1s 182us/step - loss: 0.3375 - accuracy: 0.8615 - val_loss: 0.3620 - val_accuracy: 0.8557\n",
      "Epoch 79/100\n",
      "5359/5359 [==============================] - 1s 179us/step - loss: 0.3373 - accuracy: 0.8619 - val_loss: 0.3624 - val_accuracy: 0.8542\n",
      "Epoch 80/100\n",
      "5359/5359 [==============================] - 1s 175us/step - loss: 0.3370 - accuracy: 0.8617 - val_loss: 0.3616 - val_accuracy: 0.8546\n",
      "Epoch 81/100\n",
      "5359/5359 [==============================] - 1s 173us/step - loss: 0.3373 - accuracy: 0.8604 - val_loss: 0.3620 - val_accuracy: 0.8550\n",
      "Epoch 82/100\n",
      "5359/5359 [==============================] - 1s 170us/step - loss: 0.3369 - accuracy: 0.8621 - val_loss: 0.3613 - val_accuracy: 0.8554\n",
      "Epoch 83/100\n",
      "5359/5359 [==============================] - 1s 180us/step - loss: 0.3363 - accuracy: 0.8606 - val_loss: 0.3631 - val_accuracy: 0.8523\n",
      "Epoch 84/100\n",
      "5359/5359 [==============================] - 1s 190us/step - loss: 0.3370 - accuracy: 0.8627 - val_loss: 0.3619 - val_accuracy: 0.8531\n",
      "Epoch 85/100\n",
      "5359/5359 [==============================] - 1s 182us/step - loss: 0.3365 - accuracy: 0.8610 - val_loss: 0.3609 - val_accuracy: 0.8557\n",
      "Epoch 86/100\n",
      "5359/5359 [==============================] - 1s 181us/step - loss: 0.3363 - accuracy: 0.8599 - val_loss: 0.3609 - val_accuracy: 0.8554\n",
      "Epoch 87/100\n",
      "5359/5359 [==============================] - 1s 176us/step - loss: 0.3360 - accuracy: 0.8617 - val_loss: 0.3606 - val_accuracy: 0.8561\n",
      "Epoch 88/100\n",
      "5359/5359 [==============================] - 1s 184us/step - loss: 0.3359 - accuracy: 0.8614 - val_loss: 0.3611 - val_accuracy: 0.8554\n",
      "Epoch 89/100\n",
      "5359/5359 [==============================] - 1s 182us/step - loss: 0.3359 - accuracy: 0.8615 - val_loss: 0.3602 - val_accuracy: 0.8573\n",
      "Epoch 90/100\n",
      "5359/5359 [==============================] - 1s 181us/step - loss: 0.3358 - accuracy: 0.8614 - val_loss: 0.3605 - val_accuracy: 0.8554\n",
      "Epoch 91/100\n",
      "5359/5359 [==============================] - 1s 184us/step - loss: 0.3348 - accuracy: 0.8606 - val_loss: 0.3605 - val_accuracy: 0.8557\n",
      "Epoch 92/100\n",
      "5359/5359 [==============================] - 1s 181us/step - loss: 0.3355 - accuracy: 0.8602 - val_loss: 0.3605 - val_accuracy: 0.8554\n",
      "Epoch 93/100\n",
      "5359/5359 [==============================] - 1s 180us/step - loss: 0.3354 - accuracy: 0.8623 - val_loss: 0.3603 - val_accuracy: 0.8561\n",
      "Epoch 94/100\n",
      "5359/5359 [==============================] - 1s 181us/step - loss: 0.3352 - accuracy: 0.8612 - val_loss: 0.3595 - val_accuracy: 0.8565\n",
      "Epoch 95/100\n",
      "5359/5359 [==============================] - 1s 181us/step - loss: 0.3347 - accuracy: 0.8608 - val_loss: 0.3596 - val_accuracy: 0.8573\n",
      "Epoch 96/100\n",
      "5359/5359 [==============================] - 1s 181us/step - loss: 0.3345 - accuracy: 0.8619 - val_loss: 0.3589 - val_accuracy: 0.8565\n",
      "Epoch 97/100\n",
      "5359/5359 [==============================] - 1s 181us/step - loss: 0.3345 - accuracy: 0.8615 - val_loss: 0.3592 - val_accuracy: 0.8535\n",
      "Epoch 98/100\n",
      "5359/5359 [==============================] - 1s 179us/step - loss: 0.3345 - accuracy: 0.8621 - val_loss: 0.3588 - val_accuracy: 0.8584\n",
      "Epoch 99/100\n",
      "5359/5359 [==============================] - 1s 177us/step - loss: 0.3343 - accuracy: 0.8600 - val_loss: 0.3587 - val_accuracy: 0.8561\n",
      "Epoch 100/100\n",
      "5359/5359 [==============================] - 1s 179us/step - loss: 0.3342 - accuracy: 0.8621 - val_loss: 0.3586 - val_accuracy: 0.8584\n"
     ]
    }
   ],
   "source": [
    "model_history = classifier.fit(x_train,y_train, validation_split=0.33, batch_size=10, nb_epoch = 100)"
   ]
  },
  {
   "cell_type": "markdown",
   "metadata": {},
   "source": [
    "Predicting the test set results"
   ]
  },
  {
   "cell_type": "code",
   "execution_count": 42,
   "metadata": {},
   "outputs": [],
   "source": [
    "y_pred= classifier.predict(x_test)\n",
    "y_pred = (y_pred>0.5)"
   ]
  },
  {
   "cell_type": "markdown",
   "metadata": {},
   "source": [
    "Making the confusion Matrix\n"
   ]
  },
  {
   "cell_type": "code",
   "execution_count": 46,
   "metadata": {},
   "outputs": [
    {
     "data": {
      "text/plain": [
       "array([[1532,   63],\n",
       "       [ 216,  189]], dtype=int64)"
      ]
     },
     "execution_count": 46,
     "metadata": {},
     "output_type": "execute_result"
    }
   ],
   "source": [
    "from sklearn.metrics import confusion_matrix\n",
    "cm = confusion_matrix(y_test,y_pred)\n",
    "cm"
   ]
  },
  {
   "cell_type": "markdown",
   "metadata": {},
   "source": [
    "Calcuting the accuracy"
   ]
  },
  {
   "cell_type": "code",
   "execution_count": 47,
   "metadata": {},
   "outputs": [
    {
     "data": {
      "text/plain": [
       "0.8605"
      ]
     },
     "execution_count": 47,
     "metadata": {},
     "output_type": "execute_result"
    }
   ],
   "source": [
    "from sklearn.metrics import accuracy_score\n",
    "score = accuracy_score(y_test, y_pred)\n",
    "score"
   ]
  },
  {
   "cell_type": "code",
   "execution_count": null,
   "metadata": {},
   "outputs": [],
   "source": []
  }
 ],
 "metadata": {
  "kernelspec": {
   "display_name": "Python 3",
   "language": "python",
   "name": "python3"
  },
  "language_info": {
   "codemirror_mode": {
    "name": "ipython",
    "version": 3
   },
   "file_extension": ".py",
   "mimetype": "text/x-python",
   "name": "python",
   "nbconvert_exporter": "python",
   "pygments_lexer": "ipython3",
   "version": "3.6.9"
  }
 },
 "nbformat": 4,
 "nbformat_minor": 2
}
